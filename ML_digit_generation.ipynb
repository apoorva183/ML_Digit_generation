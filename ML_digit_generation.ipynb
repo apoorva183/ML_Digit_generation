{
  "cells": [
    {
      "cell_type": "markdown",
      "metadata": {
        "id": "_J26tGy7ubES"
      },
      "source": [
        "\n",
        "\n",
        "## Problem statement : Convert an MNIST classifier NN into digit shapes generation. What are the chances of generating a digit that wasn't used for training."
      ]
    },
    {
      "cell_type": "markdown",
      "metadata": {
        "id": "Mfsl4tJVva1n"
      },
      "source": [
        "## **Steps:**"
      ]
    },
    {
      "cell_type": "markdown",
      "metadata": {
        "id": "POVsGz2WtqYd"
      },
      "source": [
        "- Imported the PyTorch library to build models, along with torchvision for handling datasets and matplotlib for visualizing results.\n",
        "\n",
        "- The computation was set to a GPU by default, falling back to CPU if this was not available.\n",
        "\n",
        "- Instantiated the MNIST dataset of handwritten digits, ranging from 0 through 9, preprocessed their images into tensors, and divided the data into training and testing datasets using DataLoaders for batching.\n",
        "\n",
        "- Defined a VAE that included an encoder to compress input images into a small latent space, applied a reparameterization trick to add randomness, and used a decoder to reconstruct images from this latent space.\n",
        "\n",
        "- The VAE was trained by minimizing the reconstruction loss to accurately recreate images.\n",
        "\n",
        "- Constructed a CNN classifier with convolutional layers to extract features and fully connected layers to predict the digit classes ranging from 0 to 9.\n",
        "\n",
        "- Trained the classifier-CNN through minimizing cross-entropy loss over several epochs.\n",
        "\n",
        "- Specific digits were generated between 1 and 9. This was done by initializing the random latent vector, optimizing with the classifier's feedback to maximize the confidence for the target digit, and then reconstructing the image using the VAE decoder.\n",
        "\n",
        "- Tried generating images for the non-existent class, say digit 11. Since the classifier hasn't seen this class at all, the generated output was random.\n",
        "\n",
        "- Visualized generated images for digits 1–9 and created funny images for non-existent classes."
      ]
    },
    {
      "cell_type": "code",
      "execution_count": null,
      "metadata": {
        "id": "SkE_njvEmWOm"
      },
      "outputs": [],
      "source": [
        "#importing necessary libraries\n",
        "\n",
        "import torch\n",
        "import torch.nn as nn\n",
        "import torch.optim as optim\n",
        "from torch.utils.data import DataLoader\n",
        "from torchvision import datasets, transforms\n",
        "import torch.nn.functional as F\n",
        "import matplotlib.pyplot as plt\n",
        "\n",
        "device = torch.device(\"cuda\" if torch.cuda.is_available() else \"cpu\")"
      ]
    },
    {
      "cell_type": "code",
      "execution_count": null,
      "metadata": {
        "id": "GHgrwBtQm2CQ"
      },
      "outputs": [],
      "source": [
        "\n",
        "transform = transforms.Compose([transforms.ToTensor()])\n",
        "train_dataset = datasets.MNIST(root='./data', train=True, download=True, transform=transform)\n",
        "test_dataset = datasets.MNIST(root='./data', train=False, download=True, transform=transform)\n",
        "\n",
        "train_loader = DataLoader(train_dataset, batch_size=64, shuffle=True)#creating loaders for batch processing\n",
        "test_loader = DataLoader(test_dataset, batch_size=64, shuffle=False)"
      ]
    },
    {
      "cell_type": "code",
      "execution_count": null,
      "metadata": {
        "id": "rP9UfSM7m4ea"
      },
      "outputs": [],
      "source": [
        "class VAE(nn.Module):\n",
        "    def __init__(self, latent_dim=20):\n",
        "        super(VAE, self).__init__()\n",
        "        self.latent_dim = latent_dim\n",
        "        # Encoder- compresses the image\n",
        "        self.fc1 = nn.Linear(28*28, 400) #400 features\n",
        "        self.fc_mu = nn.Linear(400, latent_dim)\n",
        "        self.fc_var = nn.Linear(400, latent_dim)\n",
        "\n",
        "        # Decoder- uses compressed image\n",
        "        self.fc3 = nn.Linear(latent_dim, 400)\n",
        "        self.fc4 = nn.Linear(400, 28*28)\n",
        "\n",
        "    def encode(self, x):\n",
        "        h = F.relu(self.fc1(x))# passes the input to incoder\n",
        "        mu = self.fc_mu(h)\n",
        "        log_var = self.fc_var(h)\n",
        "        return mu, log_var\n",
        "\n",
        "    def reparameterize(self, mu, log_var):#adds randomness\n",
        "        std = torch.exp(0.5 * log_var)\n",
        "        eps = torch.randn_like(std)\n",
        "        return mu + eps * std\n",
        "\n",
        "    def decode(self, z):#reconstructs the image\n",
        "        h = F.relu(self.fc3(z))\n",
        "        x_recon = torch.sigmoid(self.fc4(h))\n",
        "        return x_recon\n",
        "\n",
        "    def forward(self, x):# forward pass\n",
        "        mu, log_var = self.encode(x.view(-1, 28*28))\n",
        "        z = self.reparameterize(mu, log_var)\n",
        "        x_recon = self.decode(z)\n",
        "        return x_recon, mu, log_var"
      ]
    },
    {
      "cell_type": "code",
      "execution_count": null,
      "metadata": {
        "id": "TVsVq0bEm-A3"
      },
      "outputs": [],
      "source": [
        "def vae_loss(x, x_recon, mu, log_var):\n",
        "  # Reconstruction loss\n",
        "  recon_loss = F.binary_cross_entropy(x_recon, x.view(-1, 28*28), reduction='sum')\n",
        "  kld = -0.5 * torch.sum(1 + log_var - mu ** 2 - log_var.exp())\n",
        "  return (recon_loss + kld) / x.size(0)"
      ]
    },
    {
      "cell_type": "code",
      "execution_count": null,
      "metadata": {
        "colab": {
          "base_uri": "https://localhost:8080/"
        },
        "id": "8q0jWnoGnICh",
        "outputId": "33288b49-918a-4ff3-c8af-ee83299f2ee6"
      },
      "outputs": [
        {
          "name": "stdout",
          "output_type": "stream",
          "text": [
            "VAE Epoch 1, Loss: 147.5015\n",
            "VAE Epoch 2, Loss: 115.6570\n",
            "VAE Epoch 3, Loss: 111.1312\n",
            "VAE Epoch 4, Loss: 109.1668\n",
            "VAE Epoch 5, Loss: 107.9674\n"
          ]
        }
      ],
      "source": [
        "vae = VAE(latent_dim=20).to(device)\n",
        "vae_optimizer = optim.Adam(vae.parameters(), lr=0.001)\n",
        "\n",
        "vae_epochs = 5\n",
        "vae.train()\n",
        "for epoch in range(vae_epochs):\n",
        "    total_loss = 0\n",
        "    for images, _ in train_loader:\n",
        "        images = images.to(device)\n",
        "        vae_optimizer.zero_grad()\n",
        "        x_recon, mu, log_var = vae(images)\n",
        "        loss = vae_loss(images, x_recon, mu, log_var)\n",
        "        loss.backward()\n",
        "        vae_optimizer.step()#update weights\n",
        "        total_loss += loss.item()\n",
        "    print(f\"VAE Epoch {epoch+1}, Loss: {total_loss/len(train_loader):.4f}\")"
      ]
    },
    {
      "cell_type": "code",
      "execution_count": null,
      "metadata": {
        "colab": {
          "base_uri": "https://localhost:8080/"
        },
        "id": "SIJJbKkonI0u",
        "outputId": "c890cb49-57c4-4ba6-8b29-416665e5dc8f"
      },
      "outputs": [
        {
          "name": "stdout",
          "output_type": "stream",
          "text": [
            "Classifier Epoch 1, Loss: 0.2113\n",
            "Classifier Epoch 2, Loss: 0.0590\n",
            "Classifier Epoch 3, Loss: 0.0399\n",
            "Classifier Epoch 4, Loss: 0.0310\n",
            "Classifier Epoch 5, Loss: 0.0240\n"
          ]
        }
      ],
      "source": [
        "class SimpleCNN(nn.Module):\n",
        "    def __init__(self):\n",
        "        super(SimpleCNN, self).__init__()\n",
        "        self.conv1 = nn.Conv2d(1, 16, 3, padding=1)# convolutional layers for feature extraction\n",
        "        self.conv2 = nn.Conv2d(16, 32, 3, padding=1)\n",
        "        self.fc1 = nn.Linear(32*7*7, 128 ) #for classification\n",
        "        self.fc2 = nn.Linear(128, 10)\n",
        "        self.pool = nn.MaxPool2d(2, 2)\n",
        "        self.relu = nn.ReLU()\n",
        "\n",
        "    def forward(self, x):\n",
        "        x = self.relu(self.conv1(x))# forward pass through CNN\n",
        "        x = self.pool(x)\n",
        "        x = self.relu(self.conv2(x))\n",
        "        x = self.pool(x)\n",
        "        x = x.view(x.size(0), -1)\n",
        "        x = self.relu(self.fc1(x))\n",
        "        x = self.fc2(x)\n",
        "        return x\n",
        "\n",
        "model = SimpleCNN().to(device)\n",
        "criterion = nn.CrossEntropyLoss()\n",
        "optimizer = optim.Adam(model.parameters(), lr=0.001)\n",
        "\n",
        "clf_epochs = 5\n",
        "model.train()# training the classifier\n",
        "for epoch in range(clf_epochs):\n",
        "    running_loss = 0.0\n",
        "    for images, labels in train_loader:\n",
        "        images, labels = images.to(device), labels.to(device)\n",
        "        optimizer.zero_grad()\n",
        "        out = model(images)\n",
        "        loss = criterion(out, labels)\n",
        "        loss.backward()\n",
        "        optimizer.step()\n",
        "        running_loss += loss.item()\n",
        "    print(f\"Classifier Epoch {epoch+1}, Loss: {running_loss/len(train_loader):.4f}\")"
      ]
    },
    {
      "cell_type": "code",
      "execution_count": null,
      "metadata": {
        "colab": {
          "base_uri": "https://localhost:8080/"
        },
        "id": "jLF1L8aKnS24",
        "outputId": "f8acf350-66a3-4dc5-c0d4-73f7ca96f0fa"
      },
      "outputs": [
        {
          "name": "stdout",
          "output_type": "stream",
          "text": [
            "Classifier Accuracy: 99.02%\n"
          ]
        }
      ],
      "source": [
        "model.eval()\n",
        "correct = 0\n",
        "total = 0\n",
        "with torch.no_grad():\n",
        "    for images, labels in test_loader:\n",
        "        images, labels = images.to(device), labels.to(device)\n",
        "        out = model(images)\n",
        "        _, pred = torch.max(out, 1)\n",
        "        total += labels.size(0)\n",
        "correct += (pred == labels).sum().item()\n",
        "print(f\"Classifier Accuracy: {100*correct/total:.2f}%\")"
      ]
    },
    {
      "cell_type": "code",
      "execution_count": null,
      "metadata": {
        "colab": {
          "base_uri": "https://localhost:8080/",
          "height": 556
        },
        "id": "Z19J7JcGnalI",
        "outputId": "6e2474e6-e508-4d57-daf9-51eb575083a4"
      },
      "outputs": [
        {
          "name": "stdout",
          "output_type": "stream",
          "text": [
            "Step 0, Loss: 0.0003, Prob: 0.9997\n",
            "Step 500, Loss: -0.0000, Prob: 1.0000\n",
            "Step 1000, Loss: -0.0000, Prob: 1.0000\n",
            "Step 1500, Loss: -0.0000, Prob: 1.0000\n",
            "Step 2000, Loss: -0.0000, Prob: 1.0000\n",
            "Step 2500, Loss: -0.0000, Prob: 1.0000\n"
          ]
        },
        {
          "data": {
            "image/png": "[encoded data removed]",
            "text/plain": [
              "<Figure size 640x480 with 1 Axes>"
            ]
          },
          "metadata": {},
          "output_type": "display_data"
        }
      ],
      "source": [
        "\n",
        "target_digit = 8\n",
        "z = torch.randn((1, vae.latent_dim), requires_grad=True, device=device)\n",
        "gen_optimizer = optim.Adam([z], lr=0.1)\n",
        "\n",
        "model.eval()\n",
        "vae.eval()\n",
        "\n",
        "for step in range(3000):\n",
        "    gen_optimizer.zero_grad()\n",
        "    x_gen = vae.decode(z) # shape: (1, 28*28)\n",
        "    x_gen_img = x_gen.view(1,1,28,28)\n",
        "\n",
        "    out = model(x_gen_img)\n",
        "    target_prob = F.softmax(out, dim=1)[0, target_digit]\n",
        "    loss = -torch.log(target_prob + 1e-10)\n",
        "    loss.backward()\n",
        "    gen_optimizer.step()\n",
        "\n",
        "if step % 500 == 0:\n",
        "        print(f\"Step {step}, Loss: {loss.item():.4f}, Prob: {target_prob.item():.4f}\")\n",
        "\n",
        "x_final = vae.decode(z).view(28,28).detach().cpu().numpy()\n",
        "plt.title(f\"Generated Digit: {target_digit}\")\n",
        "plt.imshow(x_final, cmap='gray')\n",
        "plt.show()"
      ]
    },
    {
      "cell_type": "code",
      "execution_count": null,
      "metadata": {
        "colab": {
          "base_uri": "https://localhost:8080/",
          "height": 185
        },
        "id": "DGSiFYNqng6-",
        "outputId": "bf8d3a5f-c895-4ec1-acf8-90e872042cac"
      },
      "outputs": [
        {
          "data": {
            "image/png": "[encoded data removed]",
            "text/plain": [
              "<Figure size 1800x200 with 9 Axes>"
            ]
          },
          "metadata": {},
          "output_type": "display_data"
        }
      ],
      "source": [
        "\n",
        "digits_to_generate = [i for i in range(1, 10)]  # digits from 1 to 9\n",
        "fig, axs = plt.subplots(1, 9, figsize=(18, 2))\n",
        "\n",
        "for idx, target_digit in enumerate(digits_to_generate):\n",
        "\n",
        "    z = torch.randn((1, vae.latent_dim), requires_grad=True, device=device)\n",
        "    gen_optimizer = optim.Adam([z], lr=0.1)\n",
        "\n",
        "    steps = 1000\n",
        "    for step in range(steps):\n",
        "        gen_optimizer.zero_grad()\n",
        "        x_gen = vae.decode(z)  # shape: (1, 28*28)\n",
        "        x_gen_img = x_gen.view(1,1,28,28)\n",
        "\n",
        "        out = model(x_gen_img)\n",
        "        target_prob = F.softmax(out, dim=1)[0, target_digit]\n",
        "        loss = -torch.log(target_prob + 1e-10)\n",
        "        loss.backward()\n",
        "        gen_optimizer.step()\n",
        "\n",
        "    # generate final image\n",
        "    x_final = vae.decode(z).reshape(28,28).detach().cpu().numpy()\n",
        "    axs[idx].imshow(x_final, cmap='gray')\n",
        "    axs[idx].set_title(f\"Digit {target_digit}\")\n",
        "    axs[idx].axis('off')\n",
        "\n",
        "plt.tight_layout()\n",
        "plt.show()"
      ]
    },
    {
      "cell_type": "code",
      "execution_count": null,
      "metadata": {
        "colab": {
          "base_uri": "https://localhost:8080/",
          "height": 428
        },
        "id": "gm7XRNHinutB",
        "outputId": "070a4637-8e0c-4655-c42b-ade493529e65"
      },
      "outputs": [
        {
          "data": {
            "image/png": "[encoded data removed]",
            "text/plain": [
              "<Figure size 640x480 with 1 Axes>"
            ]
          },
          "metadata": {},
          "output_type": "display_data"
        }
      ],
      "source": [
        "\n",
        "def generate_digit(target_class, steps=500, lr=0.1):\n",
        "    image = torch.randn(1, 1, 28, 28, requires_grad=True, device=device)\n",
        "    optimizer = torch.optim.Adam([image], lr=lr)\n",
        "\n",
        "    for step in range(steps):\n",
        "        optimizer.zero_grad()\n",
        "        out = model(image)\n",
        "        if target_class < 0 or target_class > 9:\n",
        "        # Non-existent class\n",
        "            loss = torch.mean(image**2)\n",
        "        else:\n",
        "            target_prob = F.softmax(out, dim=1)[0, target_class]\n",
        "            loss = -torch.log(target_prob + 1e-10)\n",
        "\n",
        "        loss.backward()\n",
        "        optimizer.step()\n",
        "\n",
        "        with torch.no_grad():\n",
        "             image.clamp_(0, 1)\n",
        "\n",
        "    return image.detach().cpu().numpy().squeeze()\n",
        "\n",
        "\n",
        "non_existent_class = 10\n",
        "nonsense_image = generate_digit(non_existent_class)\n",
        "\n",
        "plt.figure()\n",
        "plt.title(\"Non-Existent Class (10)\")\n",
        "plt.imshow(nonsense_image, cmap='gray')\n",
        "plt.axis('off')\n",
        "plt.show()\n"
      ]
    },
    {
      "cell_type": "code",
      "execution_count": null,
      "metadata": {
        "id": "z7F-K_vEoBXB"
      },
      "outputs": [],
      "source": []
    }
  ],
  "metadata": {
    "colab": {
      "provenance": []
    },
    "kernelspec": {
      "display_name": "Python 3 (ipykernel)",
      "language": "python",
      "name": "python3"
    },
    "language_info": {
      "codemirror_mode": {
        "name": "ipython",
        "version": 3
      },
      "file_extension": ".py",
      "mimetype": "text/x-python",
      "name": "python",
      "nbconvert_exporter": "python",
      "pygments_lexer": "ipython3",
      "version": "3.9.12"
    }
  },
  "nbformat": 4,
  "nbformat_minor": 0
}